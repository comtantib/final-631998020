{
 "cells": [
  {
   "cell_type": "code",
   "execution_count": 15,
   "id": "43295b03",
   "metadata": {
    "scrolled": true
   },
   "outputs": [
    {
     "name": "stdout",
     "output_type": "stream",
     "text": [
      "Binary tree from list : \n",
      " \n",
      "     ___9___\n",
      "    /       \\\n",
      "  _6        _8\n",
      " /  \\      /  \\\n",
      "12   13   15   16\n",
      "\n",
      "\n",
      "List from binary tree : [9, 6, 8, 12, 13, 15, 16] \n",
      "\n",
      "Inorder of nodes : [Node(12), Node(6), Node(13), Node(9), Node(15), Node(8), Node(16)]\n",
      "Preoder of nodes :  [Node(9), Node(6), Node(12), Node(13), Node(8), Node(15), Node(16)]\n",
      "Postoder of nodes :  [Node(12), Node(13), Node(6), Node(15), Node(16), Node(8), Node(9)] \n",
      "\n",
      "Size of tree : 7\n",
      "Height of tree : 2\n"
     ]
    }
   ],
   "source": [
    "#3ให้นักศึกษาสร้างต้นไม้ทวิภาค (Binary Tree) โดยในโปรแกรมประกอบดัวยฟังก์ชันต่อไปนี้ \n",
    "from binarytree import build\n",
    "\n",
    "from binarytree import build\n",
    "nodes =[9, 6, 8, 12, 13,15,16,]\n",
    "binary_tree = build(nodes)\n",
    "print('Binary tree from list : \\n', binary_tree )\n",
    "print('\\nList from binary tree :' ,binary_tree .values, '\\n' )\n",
    "print('Inorder of nodes :',binary_tree .inorder)\n",
    "print('Preoder of nodes : ',binary_tree .preorder)\n",
    "print('Postoder of nodes : ', binary_tree .postorder, '\\n')\n",
    "print('Size of tree :', binary_tree .size)\n",
    "print('Height of tree :', binary_tree .height)"
   ]
  },
  {
   "cell_type": "code",
   "execution_count": 54,
   "id": "3d49d1c0",
   "metadata": {},
   "outputs": [
    {
     "name": "stdout",
     "output_type": "stream",
     "text": [
      "Perfect BST of given height : \n",
      " \n",
      "      ____10______\n",
      "     /            \\\n",
      "  __4__           _14\n",
      " /     \\         /\n",
      "0       9      _13\n",
      " \\     /      /\n",
      "  2   6      11\n",
      "\n"
     ]
    }
   ],
   "source": [
    "#4ให้นักศึกษาเขียนขั้นตอนวิธีสำหรับสร้างต้นไม้แบบ Binary Search Tree (BST) พร้อมทั้งสร้างฟังก์ชั่นสำหรับหาคำตอบต่อไปนี้\n",
    "from binarytree import bst\n",
    "root = bst(height = 3)\n",
    "print('Perfect BST of given height : \\n',\n",
    "      root)"
   ]
  },
  {
   "cell_type": "code",
   "execution_count": 55,
   "id": "3542ae1d",
   "metadata": {},
   "outputs": [
    {
     "name": "stdout",
     "output_type": "stream",
     "text": [
      "ผลรวม คู่อันดับก่อนหน้าและลำดับตามหลัง : 18\n"
     ]
    }
   ],
   "source": [
    "#4.1\n",
    "def TraverseTree(root):\n",
    "\n",
    "    Sum = root.left.value + root.right.value\n",
    "    return Sum\n",
    "\n",
    "Sum = TraverseTree(root)\n",
    "print(\"ผลรวม คู่อันดับก่อนหน้าและลำดับตามหลัง : \" + str(Sum))"
   ]
  },
  {
   "cell_type": "code",
   "execution_count": 56,
   "id": "e18b3a5c",
   "metadata": {},
   "outputs": [
    {
     "name": "stdout",
     "output_type": "stream",
     "text": [
      "[Node(0), Node(2), Node(4), Node(6), Node(9), Node(10), Node(11), Node(13), Node(14)]\n",
      "ผลรวม : 69\n"
     ]
    }
   ],
   "source": [
    "#4.2\n",
    "def InorderTraverseTree( root): \n",
    "    if root:\n",
    "        return InorderTraverseTree(root.left) + int(root.value) + InorderTraverseTree(root.right)\n",
    "    else:\n",
    "        return 0\n",
    "\n",
    "print(root.inorder)\n",
    "Sum = InorderTraverseTree(root)\n",
    "print(\"ผลรวม : \" + str(Sum))"
   ]
  },
  {
   "cell_type": "code",
   "execution_count": 57,
   "id": "d3679605",
   "metadata": {},
   "outputs": [
    {
     "name": "stdout",
     "output_type": "stream",
     "text": [
      "เลขที่ต้องการ  True\n"
     ]
    }
   ],
   "source": [
    "#4.3\n",
    "def Search(root,key):\n",
    "    if root:\n",
    "        if key == root.value:\n",
    "            return True\n",
    "        else:\n",
    "            if key > root.value:\n",
    "                return Search(root.right,key)\n",
    "            else:\n",
    "                return Search(root.left,key)\n",
    "    return False\n",
    "\n",
    "key = 14\n",
    "print(\"เลขที่ต้องการ \", Search(root,key))"
   ]
  },
  {
   "cell_type": "code",
   "execution_count": 58,
   "id": "5545b590",
   "metadata": {},
   "outputs": [
    {
     "name": "stdout",
     "output_type": "stream",
     "text": [
      "ผลรวม The result :  14\n"
     ]
    }
   ],
   "source": [
    "#4.4\n",
    "def SumOfLeftestAndRightest(root):\n",
    "    res = []\n",
    "    if root:\n",
    "        res = SumOfLeftestAndRightest(root.left)\n",
    "        res.append(root.value)\n",
    "        res += SumOfLeftestAndRightest(root.right)\n",
    "        #print(root.value)\n",
    "\n",
    "    return res\n",
    "\n",
    "t = SumOfLeftestAndRightest(root)\n",
    "print(\"ผลรวม\", \"The result : \", t[0] +t[-1])"
   ]
  },
  {
   "cell_type": "code",
   "execution_count": 53,
   "id": "236b41e7",
   "metadata": {},
   "outputs": [
    {
     "name": "stdout",
     "output_type": "stream",
     "text": [
      "Vertex tDistance from Source\n",
      "a t 0\n",
      "b t 3\n",
      "c t 4\n",
      "d t 6\n",
      "e t 1\n",
      "f t 14\n",
      "g t 5\n"
     ]
    }
   ],
   "source": [
    "#1\n",
    " \n",
    " \n",
    "class Graph():\n",
    " \n",
    "    def __init__(self, vertices):\n",
    "        self.V = vertices\n",
    "        self.graph = [[0 for column in range(vertices)]\n",
    "                      for row in range(vertices)]\n",
    " \n",
    "    def printSolution(self, dist):\n",
    "        R = ['a', 'b', 'c', 'd', 'e', 'f', 'g']\n",
    "        print(\"Vertex tDistance from Source\")\n",
    "        for node in range(self.V):\n",
    "            print(R[node], \"t\", dist[node])\n",
    " \n",
    "\n",
    "    def minDistance(self, dist, sptSet):\n",
    " \n",
    "\n",
    "        min = 1e7\n",
    "\n",
    "        for v in range(self.V):\n",
    "            if dist[v] < min and sptSet[v] == False:\n",
    "                min = dist[v]\n",
    "                min_index = v\n",
    " \n",
    "        return min_index\n",
    " \n",
    "\n",
    "    def dijkstra(self, src):\n",
    "        R = ['a', 'b', 'c', 'd', 'e', 'f', 'g']\n",
    "        dist = [1e7] * self.V\n",
    "        dist[src] = 0\n",
    "        sptSet = [False] * self.V\n",
    "        \n",
    "        for cout in range(self.V):\n",
    " \n",
    "\n",
    "            u = self.minDistance(dist, sptSet)\n",
    " \n",
    "\n",
    "            sptSet[u] = True\n",
    " \n",
    "            \n",
    "            for v in range(self.V):\n",
    "                if (self.graph[u][v] > 0 and\n",
    "                   sptSet[v] == False and\n",
    "                   dist[v] > dist[u] + self.graph[u][v]):\n",
    "                    dist[v] = dist[u] + self.graph[u][v]\n",
    " \n",
    "        self.printSolution(dist)\n",
    "g = Graph(7)\n",
    "g.graph = [\n",
    "    [0, 3, 0, 6, 1, 0, 0],    # a\n",
    "    [3, 0, 6, 0, 5, 0, 0],    # b\n",
    "    [0, 6, 0, 0, 3, 10, 0],  # c\n",
    "    [6, 0, 0, 0, 6, 0, 7],    # d\n",
    "    [1, 5, 3, 6, 0, 0, 4],    # e\n",
    "    [0, 0, 10, 0, 0, 0, 0],  # f\n",
    "    [0, 0, 0, 7, 4, 0, 0],    # g\n",
    "           ]\n",
    "  \n",
    "g.dijkstra(0)"
   ]
  },
  {
   "cell_type": "code",
   "execution_count": null,
   "id": "ad4d7f8d",
   "metadata": {},
   "outputs": [],
   "source": [
    "#2\n",
    "Adjacency Matrix\n",
    "ถ้ารับ edge (u, v) มาก็แค่เซตให้ Matrix[u][v] = 1 (ถ้าเป็น undirected graph ก็ Matrix[v][u] = 1 ด้วย)\n",
    "\n",
    "\n",
    "Adjacency List ให้ใช้ array of vectors เอา แบบนี้\n",
    "\n",
    "vector<int> G[num_of_nodes];\n",
    "// เพิ่ม edge (u,v) => G[u].push_back(v);\n",
    "เวลาต้องการหาทุก node ที่อยู่รอบ ๆ node u ใด ๆ สามารถใช้การลูปแบบนี้ได้\n",
    "\n",
    "for (auto v : G[u]) {\n",
    "    // อยากทำอะไรก็เชิญ\n",
    "}\n",
    "ถ้าเป็นกราฟที่มีน้ำหนัก แนะนำให้ใช้เป็น pair<int, int> เอา โดยที่ตัวแรกเก็บ node ปลายทาง ส่วนตัวที่สองเก็บน้ำหนัก แบบนี้\n",
    "\n",
    "using pii = pair<int, int>; // หรือจะ typedef ก็แล้วแต่สะดวก\n",
    "vector<pii> G[num_of_nodes];\n",
    "// เพิ่ม edge (u,v,w) => G[u].push_back({v, w});\n",
    "// หรือจะใช้เป็น G[u].emplace_back(v, w); ก็ได้\n"
   ]
  },
  {
   "cell_type": "code",
   "execution_count": null,
   "id": "9d58ce6e",
   "metadata": {},
   "outputs": [],
   "source": []
  }
 ],
 "metadata": {
  "kernelspec": {
   "display_name": "Python 3 (ipykernel)",
   "language": "python",
   "name": "python3"
  },
  "language_info": {
   "codemirror_mode": {
    "name": "ipython",
    "version": 3
   },
   "file_extension": ".py",
   "mimetype": "text/x-python",
   "name": "python",
   "nbconvert_exporter": "python",
   "pygments_lexer": "ipython3",
   "version": "3.10.0"
  }
 },
 "nbformat": 4,
 "nbformat_minor": 5
}
